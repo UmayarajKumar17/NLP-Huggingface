{
 "cells": [
  {
   "cell_type": "code",
   "execution_count": 6,
   "metadata": {},
   "outputs": [
    {
     "data": {
      "text/plain": [
       "True"
      ]
     },
     "execution_count": 6,
     "metadata": {},
     "output_type": "execute_result"
    }
   ],
   "source": [
    "from transformers import pipeline\n",
    "from dotenv import load_dotenv\n",
    "import os\n",
    "import requests\n",
    "load_dotenv()"
   ]
  },
  {
   "cell_type": "code",
   "execution_count": 8,
   "metadata": {},
   "outputs": [],
   "source": [
    "api_url = \"https://api-inference.huggingface.co/models/facebook/mbart-large-50-many-to-many-mmt\"\n",
    "api_key = os.getenv(\"HuggingFace_API_KEY\")"
   ]
  },
  {
   "cell_type": "code",
   "execution_count": null,
   "metadata": {},
   "outputs": [],
   "source": [
    "tamil_text = \"உங்கள் நாள் எப்படி இருக்கிறது?\"\n",
    "payload = {\n",
    "    \"inputs\": tamil_text,\n",
    "    \"parameters\": {\n",
    "        \"src_lang\": \"ta_IN\",    \n",
    "        \"tgt_lang\": \"en_XX\"      \n",
    "    }\n",
    "}\n",
    "\n",
    "headers = {\n",
    "    \"Authorization\": f\"Bearer {api_key}\"\n",
    "}"
   ]
  },
  {
   "cell_type": "code",
   "execution_count": 12,
   "metadata": {},
   "outputs": [
    {
     "name": "stdout",
     "output_type": "stream",
     "text": [
      "Tamil: உங்கள் நாள் எப்படி இருக்கிறது?\n",
      "English Translation: How is your day?\n"
     ]
    }
   ],
   "source": [
    "response = requests.post(api_url, headers=headers, json=payload)\n",
    "if response.status_code == 200:\n",
    "    result = response.json()\n",
    "    translated_text = result[0][\"translation_text\"]\n",
    "    print(f\"Tamil: {tamil_text}\")\n",
    "    print(f\"English Translation: {translated_text}\")\n",
    "else:\n",
    "    print(f\"Error: {response.status_code}, {response.text}\")\n"
   ]
  }
 ],
 "metadata": {
  "kernelspec": {
   "display_name": "Python 3",
   "language": "python",
   "name": "python3"
  },
  "language_info": {
   "codemirror_mode": {
    "name": "ipython",
    "version": 3
   },
   "file_extension": ".py",
   "mimetype": "text/x-python",
   "name": "python",
   "nbconvert_exporter": "python",
   "pygments_lexer": "ipython3",
   "version": "3.11.8"
  }
 },
 "nbformat": 4,
 "nbformat_minor": 2
}
