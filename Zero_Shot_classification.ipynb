{
 "cells": [
  {
   "cell_type": "code",
   "execution_count": 8,
   "metadata": {},
   "outputs": [],
   "source": [
    "import requests\n",
    "import json\n",
    "from dotenv import load_dotenv\n",
    "import os"
   ]
  },
  {
   "cell_type": "code",
   "execution_count": 9,
   "metadata": {},
   "outputs": [],
   "source": [
    "api_url = \"https://api-inference.huggingface.co/models/facebook/bart-large-mnli\"\n",
    "api_key = os.getenv(\"HuggingFace_API_KEY\")"
   ]
  },
  {
   "cell_type": "code",
   "execution_count": null,
   "metadata": {},
   "outputs": [],
   "source": [
    "headers = {\n",
    "    \"Authorization\": f\"Bearer {api_key}\"\n",
    "}\n"
   ]
  },
  {
   "cell_type": "code",
   "execution_count": null,
   "metadata": {},
   "outputs": [],
   "source": [
    "text = \"The weather is great today, it's sunny and warm.\"\n",
    "candidate_labels = [\"weather\", \"sports\", \"politics\", \"technology\"]"
   ]
  },
  {
   "cell_type": "code",
   "execution_count": null,
   "metadata": {},
   "outputs": [],
   "source": [
    "payload = {\n",
    "    \"inputs\": text,\n",
    "    \"parameters\": {\n",
    "        \"candidate_labels\": candidate_labels\n",
    "    }\n",
    "}"
   ]
  },
  {
   "cell_type": "code",
   "execution_count": 3,
   "metadata": {},
   "outputs": [
    {
     "name": "stdout",
     "output_type": "stream",
     "text": [
      "Classification Result: {\n",
      "  \"sequence\": \"The weather is great today, it's sunny and warm.\",\n",
      "  \"labels\": [\n",
      "    \"weather\",\n",
      "    \"technology\",\n",
      "    \"sports\",\n",
      "    \"politics\"\n",
      "  ],\n",
      "  \"scores\": [\n",
      "    0.9861559271812439,\n",
      "    0.006624321453273296,\n",
      "    0.0049079968594014645,\n",
      "    0.0023118185345083475\n",
      "  ]\n",
      "}\n"
     ]
    }
   ],
   "source": [
    "response = requests.post(api_url, headers=headers, json=payload)\n",
    "if response.status_code == 200:\n",
    "    result = response.json()\n",
    "    print(\"Classification Result:\", json.dumps(result, indent=2))\n",
    "else:\n",
    "    print(f\"Error {response.status_code}: {response.text}\")\n"
   ]
  },
  {
   "cell_type": "code",
   "execution_count": 7,
   "metadata": {},
   "outputs": [
    {
     "data": {
      "text/plain": [
       "'weather'"
      ]
     },
     "execution_count": 7,
     "metadata": {},
     "output_type": "execute_result"
    }
   ],
   "source": [
    "highest_score_label = labels[max_score_index] \n",
    "highest_score_value = scores[max_score_index]\n",
    "highest_score_label"
   ]
  },
  {
   "cell_type": "code",
   "execution_count": null,
   "metadata": {},
   "outputs": [],
   "source": []
  }
 ],
 "metadata": {
  "kernelspec": {
   "display_name": "Python 3",
   "language": "python",
   "name": "python3"
  },
  "language_info": {
   "codemirror_mode": {
    "name": "ipython",
    "version": 3
   },
   "file_extension": ".py",
   "mimetype": "text/x-python",
   "name": "python",
   "nbconvert_exporter": "python",
   "pygments_lexer": "ipython3",
   "version": "3.11.8"
  }
 },
 "nbformat": 4,
 "nbformat_minor": 2
}
