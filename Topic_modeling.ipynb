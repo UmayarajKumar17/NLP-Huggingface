{
 "cells": [
  {
   "cell_type": "code",
   "execution_count": 1,
   "metadata": {},
   "outputs": [
    {
     "name": "stdout",
     "output_type": "stream",
     "text": [
      "Requirement already satisfied: sentence-transformers in c:\\users\\umayaraj kumar\\appdata\\local\\programs\\python\\python311\\lib\\site-packages (3.3.1)\n",
      "Requirement already satisfied: scikit-learn in c:\\users\\umayaraj kumar\\appdata\\local\\programs\\python\\python311\\lib\\site-packages (1.5.2)\n",
      "Requirement already satisfied: transformers in c:\\users\\umayaraj kumar\\appdata\\local\\programs\\python\\python311\\lib\\site-packages (4.46.3)\n",
      "Requirement already satisfied: tqdm in c:\\users\\umayaraj kumar\\appdata\\local\\programs\\python\\python311\\lib\\site-packages (from sentence-transformers) (4.66.5)\n",
      "Requirement already satisfied: torch>=1.11.0 in c:\\users\\umayaraj kumar\\appdata\\local\\programs\\python\\python311\\lib\\site-packages (from sentence-transformers) (2.5.0+cu118)\n",
      "Requirement already satisfied: scipy in c:\\users\\umayaraj kumar\\appdata\\local\\programs\\python\\python311\\lib\\site-packages (from sentence-transformers) (1.14.1)\n",
      "Requirement already satisfied: huggingface-hub>=0.20.0 in c:\\users\\umayaraj kumar\\appdata\\local\\programs\\python\\python311\\lib\\site-packages (from sentence-transformers) (0.27.1)\n",
      "Requirement already satisfied: Pillow in c:\\users\\umayaraj kumar\\appdata\\local\\programs\\python\\python311\\lib\\site-packages (from sentence-transformers) (11.0.0)\n",
      "Requirement already satisfied: numpy>=1.19.5 in c:\\users\\umayaraj kumar\\appdata\\local\\programs\\python\\python311\\lib\\site-packages (from scikit-learn) (1.26.4)\n",
      "Requirement already satisfied: joblib>=1.2.0 in c:\\users\\umayaraj kumar\\appdata\\local\\programs\\python\\python311\\lib\\site-packages (from scikit-learn) (1.4.2)\n",
      "Requirement already satisfied: threadpoolctl>=3.1.0 in c:\\users\\umayaraj kumar\\appdata\\local\\programs\\python\\python311\\lib\\site-packages (from scikit-learn) (3.5.0)\n",
      "Requirement already satisfied: filelock in c:\\users\\umayaraj kumar\\appdata\\local\\programs\\python\\python311\\lib\\site-packages (from transformers) (3.16.1)\n",
      "Requirement already satisfied: packaging>=20.0 in c:\\users\\umayaraj kumar\\appdata\\roaming\\python\\python311\\site-packages (from transformers) (24.1)\n",
      "Requirement already satisfied: pyyaml>=5.1 in c:\\users\\umayaraj kumar\\appdata\\local\\programs\\python\\python311\\lib\\site-packages (from transformers) (6.0.2)\n",
      "Requirement already satisfied: regex!=2019.12.17 in c:\\users\\umayaraj kumar\\appdata\\local\\programs\\python\\python311\\lib\\site-packages (from transformers) (2024.11.6)\n",
      "Requirement already satisfied: requests in c:\\users\\umayaraj kumar\\appdata\\local\\programs\\python\\python311\\lib\\site-packages (from transformers) (2.32.3)\n",
      "Requirement already satisfied: tokenizers<0.21,>=0.20 in c:\\users\\umayaraj kumar\\appdata\\local\\programs\\python\\python311\\lib\\site-packages (from transformers) (0.20.3)\n",
      "Requirement already satisfied: safetensors>=0.4.1 in c:\\users\\umayaraj kumar\\appdata\\local\\programs\\python\\python311\\lib\\site-packages (from transformers) (0.4.5)\n",
      "Requirement already satisfied: fsspec>=2023.5.0 in c:\\users\\umayaraj kumar\\appdata\\local\\programs\\python\\python311\\lib\\site-packages (from huggingface-hub>=0.20.0->sentence-transformers) (2024.9.0)\n",
      "Requirement already satisfied: typing-extensions>=3.7.4.3 in c:\\users\\umayaraj kumar\\appdata\\roaming\\python\\python311\\site-packages (from huggingface-hub>=0.20.0->sentence-transformers) (4.12.2)\n",
      "Requirement already satisfied: networkx in c:\\users\\umayaraj kumar\\appdata\\local\\programs\\python\\python311\\lib\\site-packages (from torch>=1.11.0->sentence-transformers) (3.4.2)\n",
      "Requirement already satisfied: jinja2 in c:\\users\\umayaraj kumar\\appdata\\local\\programs\\python\\python311\\lib\\site-packages (from torch>=1.11.0->sentence-transformers) (3.1.4)\n",
      "Requirement already satisfied: sympy==1.13.1 in c:\\users\\umayaraj kumar\\appdata\\local\\programs\\python\\python311\\lib\\site-packages (from torch>=1.11.0->sentence-transformers) (1.13.1)\n",
      "Requirement already satisfied: mpmath<1.4,>=1.1.0 in c:\\users\\umayaraj kumar\\appdata\\local\\programs\\python\\python311\\lib\\site-packages (from sympy==1.13.1->torch>=1.11.0->sentence-transformers) (1.3.0)\n",
      "Requirement already satisfied: colorama in c:\\users\\umayaraj kumar\\appdata\\roaming\\python\\python311\\site-packages (from tqdm->sentence-transformers) (0.4.6)\n",
      "Requirement already satisfied: charset-normalizer<4,>=2 in c:\\users\\umayaraj kumar\\appdata\\local\\programs\\python\\python311\\lib\\site-packages (from requests->transformers) (3.4.0)\n",
      "Requirement already satisfied: idna<4,>=2.5 in c:\\users\\umayaraj kumar\\appdata\\local\\programs\\python\\python311\\lib\\site-packages (from requests->transformers) (3.7)\n",
      "Requirement already satisfied: urllib3<3,>=1.21.1 in c:\\users\\umayaraj kumar\\appdata\\local\\programs\\python\\python311\\lib\\site-packages (from requests->transformers) (2.2.3)\n",
      "Requirement already satisfied: certifi>=2017.4.17 in c:\\users\\umayaraj kumar\\appdata\\local\\programs\\python\\python311\\lib\\site-packages (from requests->transformers) (2024.8.30)\n",
      "Requirement already satisfied: MarkupSafe>=2.0 in c:\\users\\umayaraj kumar\\appdata\\local\\programs\\python\\python311\\lib\\site-packages (from jinja2->torch>=1.11.0->sentence-transformers) (3.0.2)\n"
     ]
    }
   ],
   "source": [
    "! pip install sentence-transformers scikit-learn transformers\n"
   ]
  },
  {
   "cell_type": "code",
   "execution_count": 2,
   "metadata": {},
   "outputs": [
    {
     "name": "stderr",
     "output_type": "stream",
     "text": [
      "c:\\Users\\UMAYARAJ KUMAR\\AppData\\Local\\Programs\\Python\\Python311\\Lib\\site-packages\\tqdm\\auto.py:21: TqdmWarning: IProgress not found. Please update jupyter and ipywidgets. See https://ipywidgets.readthedocs.io/en/stable/user_install.html\n",
      "  from .autonotebook import tqdm as notebook_tqdm\n"
     ]
    }
   ],
   "source": [
    "from sentence_transformers import SentenceTransformer\n",
    "from sklearn.cluster import KMeans\n",
    "import numpy as np"
   ]
  },
  {
   "cell_type": "code",
   "execution_count": 3,
   "metadata": {},
   "outputs": [],
   "source": [
    "model = SentenceTransformer('all-MiniLM-L6-v2')"
   ]
  },
  {
   "cell_type": "code",
   "execution_count": 4,
   "metadata": {},
   "outputs": [],
   "source": [
    "texts = [\n",
    "    \"I love programming in Python.\",\n",
    "    \"Artificial intelligence and machine learning are exciting fields.\",\n",
    "    \"I enjoy developing AI models for various applications.\",\n",
    "    \"Python is great for data analysis and machine learning.\",\n",
    "    \"The stock market can be very volatile and unpredictable.\",\n",
    "    \"Investing in the stock market requires deep analysis.\",\n",
    "    \"Python has rich libraries for machine learning.\",\n",
    "    \"I am passionate about learning new AI techniques.\",\n",
    "    \"AI is shaping the future of technology.\",\n",
    "    \"Stock market trends are influenced by many factors.\"\n",
    "]\n",
    "\n",
    "embeddings = model.encode(texts)\n",
    "\n",
    "num_topics = 3  \n",
    "kmeans = KMeans(n_clusters=num_topics, random_state=42)\n",
    "kmeans.fit(embeddings)\n",
    "\n",
    "topic_labels = kmeans.labels_"
   ]
  },
  {
   "cell_type": "code",
   "execution_count": 5,
   "metadata": {},
   "outputs": [
    {
     "name": "stdout",
     "output_type": "stream",
     "text": [
      "Text: I love programming in Python.\n",
      "Assigned Topic: 0\n",
      "------\n",
      "Text: Artificial intelligence and machine learning are exciting fields.\n",
      "Assigned Topic: 2\n",
      "------\n",
      "Text: I enjoy developing AI models for various applications.\n",
      "Assigned Topic: 2\n",
      "------\n",
      "Text: Python is great for data analysis and machine learning.\n",
      "Assigned Topic: 0\n",
      "------\n",
      "Text: The stock market can be very volatile and unpredictable.\n",
      "Assigned Topic: 1\n",
      "------\n",
      "Text: Investing in the stock market requires deep analysis.\n",
      "Assigned Topic: 1\n",
      "------\n",
      "Text: Python has rich libraries for machine learning.\n",
      "Assigned Topic: 0\n",
      "------\n",
      "Text: I am passionate about learning new AI techniques.\n",
      "Assigned Topic: 2\n",
      "------\n",
      "Text: AI is shaping the future of technology.\n",
      "Assigned Topic: 2\n",
      "------\n",
      "Text: Stock market trends are influenced by many factors.\n",
      "Assigned Topic: 1\n",
      "------\n"
     ]
    }
   ],
   "source": [
    "for i, text in enumerate(texts):\n",
    "    print(f\"Text: {text}\")\n",
    "    print(f\"Assigned Topic: {topic_labels[i]}\")\n",
    "    print(\"------\")"
   ]
  }
 ],
 "metadata": {
  "kernelspec": {
   "display_name": "Python 3",
   "language": "python",
   "name": "python3"
  },
  "language_info": {
   "codemirror_mode": {
    "name": "ipython",
    "version": 3
   },
   "file_extension": ".py",
   "mimetype": "text/x-python",
   "name": "python",
   "nbconvert_exporter": "python",
   "pygments_lexer": "ipython3",
   "version": "3.11.8"
  }
 },
 "nbformat": 4,
 "nbformat_minor": 2
}
